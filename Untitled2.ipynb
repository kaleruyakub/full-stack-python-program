{
 "cells": [
  {
   "cell_type": "code",
   "execution_count": 7,
   "id": "4e376c66-3cb1-421d-abf6-d3d2ab17e23e",
   "metadata": {},
   "outputs": [
    {
     "name": "stdout",
     "output_type": "stream",
     "text": [
      "Hello,python full stack students!\n"
     ]
    }
   ],
   "source": [
    "print(\"Hello,python full stack students!\")"
   ]
  },
  {
   "cell_type": "code",
   "execution_count": 6,
   "id": "8ae10017-ec8f-4e97-ad12-4351da870942",
   "metadata": {},
   "outputs": [
    {
     "name": "stdout",
     "output_type": "stream",
     "text": [
      "hello,python fust stack students!\n"
     ]
    }
   ],
   "source": [
    "print(\"hello,python fust stack students!\")"
   ]
  },
  {
   "cell_type": "code",
   "execution_count": 11,
   "id": "06c58482-7084-46a8-9dda-97c6ccd7fd5b",
   "metadata": {},
   "outputs": [
    {
     "name": "stdout",
     "output_type": "stream",
     "text": [
      "yakub 18 7.7 True\n"
     ]
    }
   ],
   "source": [
    "name = \"yakub\"\n",
    "age = 18\n",
    "gpa = 7.7\n",
    "is_student = True\n",
    "print(name, age, gpa, is_student)"
   ]
  },
  {
   "cell_type": "code",
   "execution_count": 12,
   "id": "5e8a83ea-635d-4e20-a608-a6a1d7e2af0b",
   "metadata": {},
   "outputs": [
    {
     "name": "stdout",
     "output_type": "stream",
     "text": [
      "yakub 18 7.7 True\n"
     ]
    }
   ],
   "source": [
    "name=\"yakub\"\n",
    "age=18\n",
    "gpa=7.7\n",
    "is_student=True\n",
    "print(name,age,gpa,is_student)"
   ]
  },
  {
   "cell_type": "code",
   "execution_count": 14,
   "id": "6c8ebdfe-6479-46b5-af58-fef1d6fef9ea",
   "metadata": {},
   "outputs": [
    {
     "name": "stdout",
     "output_type": "stream",
     "text": [
      "<class 'int'> <class 'float'> <class 'str'> <class 'bool'>\n"
     ]
    }
   ],
   "source": [
    "x=10\n",
    "y=3.14\n",
    "z=\"python\"\n",
    "flag=False\n",
    "print(type(x),type(y),type(z),type(flag))"
   ]
  },
  {
   "cell_type": "code",
   "execution_count": 27,
   "id": "a576321a-5010-4433-b0a8-ac7858fa02c0",
   "metadata": {},
   "outputs": [
    {
     "name": "stdout",
     "output_type": "stream",
     "text": [
      "yakub avinash college of commerce python\n"
     ]
    }
   ],
   "source": [
    "name=\"yakub\"\n",
    "college=\"avinash college of commerce\"\n",
    "favorite_programming_language = \"python\"\n",
    "print(name,college,favorite_programming_language)"
   ]
  },
  {
   "cell_type": "code",
   "execution_count": 23,
   "id": "c809b3c0-d2fa-48fb-a3f3-0d3bcee506f9",
   "metadata": {},
   "outputs": [
    {
     "name": "stdout",
     "output_type": "stream",
     "text": [
      "18\n"
     ]
    }
   ],
   "source": [
    "birth_year=2007\n",
    "current_year=2025\n",
    "print(current_year-birth_year)"
   ]
  },
  {
   "cell_type": "markdown",
   "id": "bf94db4d-e6f9-4aa0-9742-fbbaa906e1a7",
   "metadata": {},
   "source": [
    "movie_name=\"salaar\"\n",
    "release_year=2024\n",
    "rating=5\n",
    "print(movie_name,release_year,rating)"
   ]
  },
  {
   "cell_type": "code",
   "execution_count": 28,
   "id": "7a2e77be-e498-4f92-ac52-87861fc1c175",
   "metadata": {},
   "outputs": [
    {
     "name": "stdout",
     "output_type": "stream",
     "text": [
      "addition: 19\n"
     ]
    }
   ],
   "source": [
    "a=15\n",
    "b=4\n",
    "print(\"addition:\",a+b)"
   ]
  },
  {
   "cell_type": "code",
   "execution_count": 29,
   "id": "2965ea90-1e40-426c-b800-6430f0e409c3",
   "metadata": {},
   "outputs": [
    {
     "name": "stdout",
     "output_type": "stream",
     "text": [
      "division: 15\n"
     ]
    }
   ],
   "source": [
    "a=15\n",
    "b=4\n",
    "print(\"division:\",a|b)"
   ]
  },
  {
   "cell_type": "code",
   "execution_count": 31,
   "id": "85b780ce-278d-498e-b5ed-046399c9b10a",
   "metadata": {},
   "outputs": [
    {
     "name": "stdout",
     "output_type": "stream",
     "text": [
      "floor division: 3\n"
     ]
    }
   ],
   "source": [
    "a=15\n",
    "b=4\n",
    "print(\"floor division:\",a//b)"
   ]
  },
  {
   "cell_type": "markdown",
   "id": "3e1a7954-9980-40a6-bbdc-ba2249f7ff61",
   "metadata": {
    "jp-MarkdownHeadingCollapsed": true
   },
   "source": [
    "a=15\n",
    "b=4\n",
    "print(power:\",a**b)"
   ]
  },
  {
   "cell_type": "code",
   "execution_count": 32,
   "id": "18f7ce1a-cbd4-4034-a788-a8bddcb515b9",
   "metadata": {
    "collapsed": true,
    "jupyter": {
     "outputs_hidden": true
    }
   },
   "outputs": [
    {
     "name": "stdout",
     "output_type": "stream",
     "text": [
      "False\n"
     ]
    }
   ],
   "source": [
    "a=10\n",
    "b=20\n",
    "print(a>b)#False"
   ]
  },
  {
   "cell_type": "markdown",
   "id": "e87ca675-8886-438e-9303-7010a5972d7f",
   "metadata": {
    "jp-MarkdownHeadingCollapsed": true
   },
   "source": [
    "a=10\n",
    "b=20\n",
    "print(a==10)#True"
   ]
  },
  {
   "cell_type": "markdown",
   "id": "ae0c545c-1b05-498f-ad3a-57b4b8c7b2cd",
   "metadata": {},
   "source": [
    "a=10\n",
    "b=20\n",
    "print(a<b)and(b==20)#True\n"
   ]
  },
  {
   "cell_type": "markdown",
   "id": "e1760a35-f9b1-4aeb-8b8e-d2d0584db9e8",
   "metadata": {},
   "source": []
  },
  {
   "cell_type": "code",
   "execution_count": null,
   "id": "4c768fe2-8e6c-41f4-9943-c84ebf200769",
   "metadata": {},
   "outputs": [],
   "source": []
  }
 ],
 "metadata": {
  "kernelspec": {
   "display_name": "Python [conda env:base] *",
   "language": "python",
   "name": "conda-base-py"
  },
  "language_info": {
   "codemirror_mode": {
    "name": "ipython",
    "version": 3
   },
   "file_extension": ".py",
   "mimetype": "text/x-python",
   "name": "python",
   "nbconvert_exporter": "python",
   "pygments_lexer": "ipython3",
   "version": "3.13.5"
  }
 },
 "nbformat": 4,
 "nbformat_minor": 5
}
